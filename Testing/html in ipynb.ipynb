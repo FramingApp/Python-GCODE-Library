{
 "cells": [
  {
   "cell_type": "code",
   "execution_count": 8,
   "metadata": {},
   "outputs": [
    {
     "data": {
      "text/html": [
       "\n",
       "<div id=\"animation-container\" style=\"width: 600px; height: 400px;></div>\n",
       "\n",
       "<script type=\"module\">\n",
       "import * as THREE from 'https://unpkg.com/three@0.161.0/build/three.module.min.js';\n",
       "\n",
       "// JavaScript code to create a simple Three.js scene\n",
       "var scene = new THREE.Scene();\n",
       "var camera = new THREE.PerspectiveCamera(75, 600/400, 0.1, 1000);\n",
       "var renderer = new THREE.WebGLRenderer();\n",
       "renderer.setSize(600, 400);\n",
       "document.getElementById('animation-container').appendChild(renderer.domElement);\n",
       "\n",
       "var geometry = new THREE.BoxGeometry();\n",
       "var material = new THREE.MeshBasicMaterial({ color: 0x00ff00 });\n",
       "var cube = new THREE.Mesh(geometry, material);\n",
       "scene.add(cube);\n",
       "\n",
       "camera.position.z = 5;\n",
       "\n",
       "function animate() {\n",
       "    requestAnimationFrame(animate);\n",
       "    cube.rotation.x += 0.01;\n",
       "    cube.rotation.y += 0.01;\n",
       "    renderer.render(scene, camera);\n",
       "}\n",
       "animate();\n",
       "</script>\n"
      ],
      "text/plain": [
       "<IPython.core.display.HTML object>"
      ]
     },
     "metadata": {},
     "output_type": "display_data"
    }
   ],
   "source": [
    "from IPython.display import display, HTML\n",
    "\n",
    "html_code = \"\"\"\n",
    "<div id=\"animation-container\" style=\"width: 600px; height: 400px;\"></div>\n",
    "\n",
    "<script type=\"module\">\n",
    "import * as THREE from 'https://unpkg.com/three@0.161.0/build/three.module.min.js';\n",
    "\n",
    "// JavaScript code to create a simple Three.js scene\n",
    "var scene = new THREE.Scene();\n",
    "var camera = new THREE.PerspectiveCamera(75, 600/400, 0.1, 1000);\n",
    "var renderer = new THREE.WebGLRenderer();\n",
    "renderer.setSize(600, 400);\n",
    "document.getElementById('animation-container').appendChild(renderer.domElement);\n",
    "\n",
    "var geometry = new THREE.BoxGeometry();\n",
    "var material = new THREE.MeshBasicMaterial({ color: 0x00ff00 });\n",
    "var cube = new THREE.Mesh(geometry, material);\n",
    "scene.add(cube);\n",
    "\n",
    "camera.position.z = 5;\n",
    "\n",
    "function animate() {\n",
    "    requestAnimationFrame(animate);\n",
    "    cube.rotation.x += 0.01;\n",
    "    cube.rotation.y += 0.01;\n",
    "    renderer.render(scene, camera);\n",
    "}\n",
    "animate();\n",
    "</script>\n",
    "\"\"\"\n",
    "\n",
    "display(HTML(html_code))\n",
    "\n",
    "\n"
   ]
  }
 ],
 "metadata": {
  "kernelspec": {
   "display_name": "base",
   "language": "python",
   "name": "python3"
  },
  "language_info": {
   "codemirror_mode": {
    "name": "ipython",
    "version": 3
   },
   "file_extension": ".py",
   "mimetype": "text/x-python",
   "name": "python",
   "nbconvert_exporter": "python",
   "pygments_lexer": "ipython3",
   "version": "3.9.13"
  }
 },
 "nbformat": 4,
 "nbformat_minor": 2
}
